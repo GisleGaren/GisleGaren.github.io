{
 "cells": [
  {
   "cell_type": "code",
   "execution_count": 3,
   "id": "cc354d2d",
   "metadata": {},
   "outputs": [
    {
     "ename": "ModuleNotFoundError",
     "evalue": "No module named 'numpy'",
     "output_type": "error",
     "traceback": [
      "\u001b[31m---------------------------------------------------------------------------\u001b[39m",
      "\u001b[31mModuleNotFoundError\u001b[39m                       Traceback (most recent call last)",
      "\u001b[36mCell\u001b[39m\u001b[36m \u001b[39m\u001b[32mIn[3]\u001b[39m\u001b[32m, line 1\u001b[39m\n\u001b[32m----> \u001b[39m\u001b[32m1\u001b[39m \u001b[38;5;28;01mimport\u001b[39;00m\u001b[38;5;250m \u001b[39m\u001b[34;01mnumpy\u001b[39;00m\u001b[38;5;250m \u001b[39m\u001b[38;5;28;01mas\u001b[39;00m\u001b[38;5;250m \u001b[39m\u001b[34;01mnp\u001b[39;00m\n\u001b[32m      2\u001b[39m \u001b[38;5;28;01mimport\u001b[39;00m\u001b[38;5;250m \u001b[39m\u001b[34;01mpandas\u001b[39;00m\u001b[38;5;250m \u001b[39m\u001b[38;5;28;01mas\u001b[39;00m\u001b[38;5;250m \u001b[39m\u001b[34;01mpd\u001b[39;00m\n\u001b[32m      3\u001b[39m \u001b[38;5;28;01mimport\u001b[39;00m\u001b[38;5;250m \u001b[39m\u001b[34;01mplotly\u001b[39;00m\u001b[34;01m.\u001b[39;00m\u001b[34;01mexpress\u001b[39;00m\u001b[38;5;250m \u001b[39m\u001b[38;5;28;01mas\u001b[39;00m\u001b[38;5;250m \u001b[39m\u001b[34;01mpx\u001b[39;00m\n",
      "\u001b[31mModuleNotFoundError\u001b[39m: No module named 'numpy'"
     ]
    }
   ],
   "source": [
    "import numpy as np\n",
    "import pandas as pd\n",
    "import plotly.express as px\n",
    "from datetime import datetime\n",
    "import os\n",
    "\n",
    "# Get the current directory\n",
    "current_dir = os.path.dirname(os.path.abspath(__file__))\n",
    "parquet_path = os.path.join(current_dir, '..', '..', 'optimized_datasets', 'vehicle_crashes_cleaned.parquet')\n",
    "\n",
    "# Read the parquet file\n",
    "df = pd.read_parquet(parquet_path)\n",
    "\n",
    "# Convert CRASH TIME to datetime and combine with CRASH DATE\n",
    "df['timestamp'] = df['CRASH DATE'] + pd.to_timedelta(df['CRASH TIME'].str.split(':').str[0].astype(int), unit='h')\n",
    "df['hour'] = df['timestamp'].dt.hour\n",
    "df['day_of_week'] = df['timestamp'].dt.day_name()\n",
    "\n",
    "# Group the data for plotting\n",
    "collision_counts = df.groupby(['day_of_week', 'hour']).size().reset_index(name='collisions')\n",
    "\n",
    "# Reorder days of the week for consistency\n",
    "collision_counts['day_of_week'] = pd.Categorical(\n",
    "    collision_counts['day_of_week'],\n",
    "    categories=['Monday', 'Tuesday', 'Wednesday', 'Thursday', 'Friday', 'Saturday', 'Sunday'],\n",
    "    ordered=True\n",
    ")\n",
    "\n",
    "# Create interactive bar chart using Plotly\n",
    "fig = px.bar(\n",
    "    collision_counts,\n",
    "    x='hour',\n",
    "    y='collisions',\n",
    "    color='day_of_week',\n",
    "    color_discrete_sequence=px.colors.qualitative.Set1,\n",
    "    barmode='group',\n",
    "    labels={'collisions': 'Number of Collisions', 'hour': 'Hour of Day'},\n",
    "    title='Interactive Collision Frequency by Hour and Day of Week',\n",
    "    height=600,\n",
    "    width=1000\n",
    ")\n",
    "\n",
    "fig.update_layout(\n",
    "    xaxis=dict(tickmode='linear'),\n",
    "    legend_title_text='Day of Week'\n",
    ")\n",
    "\n",
    "# Create the 'assets' directory inside the GitHub Pages site if it doesn't exist\n",
    "assets_dir = os.path.join(current_dir, 'GisleGaren.github.io', 'assets')\n",
    "os.makedirs(assets_dir, exist_ok=True)\n",
    "\n",
    "# Define output HTML path\n",
    "output_path = os.path.join(assets_dir, 'dangerous_hours_plot.html')\n",
    "\n",
    "# Save the Plotly chart as an interactive HTML file\n",
    "fig.write_html(output_path, include_plotlyjs='cdn')\n",
    "\n",
    "# Optionally show the chart during development\n",
    "fig.show()\n",
    "\n"
   ]
  }
 ],
 "metadata": {
  "kernelspec": {
   "display_name": ".venv",
   "language": "python",
   "name": "python3"
  },
  "language_info": {
   "codemirror_mode": {
    "name": "ipython",
    "version": 3
   },
   "file_extension": ".py",
   "mimetype": "text/x-python",
   "name": "python",
   "nbconvert_exporter": "python",
   "pygments_lexer": "ipython3",
   "version": "3.13.2"
  }
 },
 "nbformat": 4,
 "nbformat_minor": 5
}
