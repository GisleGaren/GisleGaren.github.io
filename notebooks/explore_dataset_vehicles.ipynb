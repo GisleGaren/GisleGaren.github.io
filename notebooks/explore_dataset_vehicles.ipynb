{
 "cells": [
  {
   "cell_type": "code",
   "execution_count": null,
   "id": "f218cb3f",
   "metadata": {},
   "outputs": [],
   "source": [
    "import pandas as pd\n",
    "\n",
    "df_vehicle_crashes_vehicle = pd.read_csv(\"../vehicle_crashes_vehicle.zip\")"
   ]
  },
  {
   "cell_type": "code",
   "execution_count": null,
   "id": "06365469",
   "metadata": {},
   "outputs": [],
   "source": [
    "def summarize_columns(df):\n",
    "    print(pd.DataFrame([\n",
    "        (\n",
    "            c,                               # Column name\n",
    "            df[c].dtype,                     # Data type\n",
    "            len(df[c].unique()),             # Number of unique values\n",
    "            df[c].memory_usage(deep=True) // (1024**2)  # Memory usage in MB\n",
    "        ) for c in df.columns\n",
    "    ], columns=['name', 'dtype', 'unique', 'size (MB)']))\n",
    "\n",
    "    print('Total size:', df.memory_usage(deep=True).sum() / 1024**2, 'MB')  # Total memory usage"
   ]
  },
  {
   "cell_type": "code",
   "execution_count": null,
   "id": "621c007c",
   "metadata": {},
   "outputs": [],
   "source": [
    "df_vehicle_crashes_vehicle.head(25)"
   ]
  },
  {
   "cell_type": "code",
   "execution_count": null,
   "id": "64229977",
   "metadata": {},
   "outputs": [],
   "source": [
    "# Let's see the storage size of the columns\n",
    "summarize_columns(df_vehicle_crashes_vehicle)"
   ]
  },
  {
   "cell_type": "code",
   "execution_count": null,
   "id": "fc0d91c1",
   "metadata": {},
   "outputs": [],
   "source": [
    "# Let's drop the column VEHICLE_ID as it's not needed\n",
    "df_vehicle_crashes_vehicle.drop(columns=['VEHICLE_ID','UNIQUE_ID','STATE_REGISTRATION','DRIVER_LICENSE_JURISDICTION','VEHICLE_DAMAGE_1', 'VEHICLE_DAMAGE_2', 'VEHICLE_DAMAGE_3', 'PUBLIC_PROPERTY_DAMAGE_TYPE'], inplace=True)"
   ]
  },
  {
   "cell_type": "code",
   "execution_count": null,
   "id": "5586bb73",
   "metadata": {},
   "outputs": [],
   "source": [
    "# Let's see the storage size of the columns\n",
    "summarize_columns(df_vehicle_crashes_vehicle)"
   ]
  },
  {
   "cell_type": "code",
   "execution_count": null,
   "id": "7892c1fd",
   "metadata": {},
   "outputs": [],
   "source": [
    "# Let's save this to a new csv\n",
    "df_vehicle_crashes_vehicle.to_csv(\"vehicle_crashes_vehicle_cleaned.csv\", index=False)"
   ]
  }
 ],
 "metadata": {
  "kernelspec": {
   "display_name": "compTools",
   "language": "python",
   "name": "python3"
  },
  "language_info": {
   "name": "python",
   "version": "3.12.5"
  }
 },
 "nbformat": 4,
 "nbformat_minor": 5
}
